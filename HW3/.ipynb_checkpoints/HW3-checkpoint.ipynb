{
 "cells": [
  {
   "cell_type": "markdown",
   "metadata": {},
   "source": [
    "<h1>Data Science Fundamentals - Homework 3</h1>"
   ]
  },
  {
   "cell_type": "markdown",
   "metadata": {},
   "source": [
    "Charuta Pethe - 111424850 <br/>\n",
    "Deven Shah - 111482331 <br/>\n",
    "Neha Mane - 111491083"
   ]
  },
  {
   "cell_type": "code",
   "execution_count": 1,
   "metadata": {},
   "outputs": [
    {
     "name": "stderr",
     "output_type": "stream",
     "text": [
      "/Users/charuta/anaconda/lib/python3.6/site-packages/sklearn/cross_validation.py:41: DeprecationWarning: This module was deprecated in version 0.18 in favor of the model_selection module into which all the refactored classes and functions are moved. Also note that the interface of the new CV iterators are different from that of this module. This module will be removed in 0.20.\n",
      "  \"This module will be removed in 0.20.\", DeprecationWarning)\n"
     ]
    }
   ],
   "source": [
    "import numpy as np \n",
    "import pandas as pd\n",
    "import scipy as sp\n",
    "from pandas import Series,DataFrame\n",
    "import seaborn as sns\n",
    "from scipy import stats\n",
    "from sklearn.linear_model import LinearRegression\n",
    "from sklearn.cross_validation import train_test_split\n",
    "import sklearn\n",
    "from scipy.cluster.hierarchy import fclusterdata\n",
    "import matplotlib.pyplot as plt\n",
    "%matplotlib inline"
   ]
  },
  {
   "cell_type": "code",
   "execution_count": 2,
   "metadata": {},
   "outputs": [
    {
     "name": "stderr",
     "output_type": "stream",
     "text": [
      "/Users/charuta/anaconda/lib/python3.6/site-packages/IPython/core/interactiveshell.py:2717: DtypeWarning: Columns (49) have mixed types. Specify dtype option on import or set low_memory=False.\n",
      "  interactivity=interactivity, compiler=compiler, result=result)\n"
     ]
    }
   ],
   "source": [
    "#Read properties CSV\n",
    "properties = pd.read_csv('/Users/charuta/Documents/SBU/Academics/Semester_1/Data_Science/Homework_3/properties_2017.csv')"
   ]
  },
  {
   "cell_type": "markdown",
   "metadata": {},
   "source": [
    "# Question 1"
   ]
  },
  {
   "cell_type": "code",
   "execution_count": 3,
   "metadata": {
    "collapsed": true
   },
   "outputs": [],
   "source": [
    "#Calculate scoring function based on bedroomcount, calculatedfinishedsquarefeet, regionidcounty\n",
    "\n",
    "#Considers Single Family Residential houses\n",
    "houses_to_take = [261] \n",
    "temp = properties.loc[properties.propertylandusetypeid.isin(houses_to_take)]\n",
    "\n",
    "score = temp[['parcelid', 'bedroomcnt', 'calculatedfinishedsquarefeet', 'regionidcounty']]\n",
    "score = score.dropna(axis=0, how='any')\n",
    "score = score[score.bedroomcnt != 0]"
   ]
  },
  {
   "cell_type": "markdown",
   "metadata": {},
   "source": []
  },
  {
   "cell_type": "code",
   "execution_count": 4,
   "metadata": {
    "collapsed": true
   },
   "outputs": [],
   "source": [
    "#Removes outliers from the data\n",
    "score = score.drop([1176033, 2338929])"
   ]
  },
  {
   "cell_type": "code",
   "execution_count": 5,
   "metadata": {
    "collapsed": true
   },
   "outputs": [],
   "source": [
    "#Calculates zscore of the selected features\n",
    "score['zscorebedroomcnt'] = stats.zscore(score.bedroomcnt)\n",
    "score['zscorecalculatedfinishedsquarefeet'] = stats.zscore(score.calculatedfinishedsquarefeet)\n",
    "score['rankRegion'] = score.regionidcounty\n",
    "\n",
    "#Ranks the county in non-decreasing manner of mean tax value of the houses\n",
    "score['rankRegion'].replace(3101.0, 1, inplace=True)\n",
    "score['rankRegion'].replace(2061.0, 2, inplace=True)\n",
    "score['rankRegion'].replace(1286.0, 3, inplace=True)\n",
    "score['zscorerankRegion'] = stats.zscore(score.rankRegion)\n",
    "\n",
    "#The final score is a sum of all the zscores\n",
    "score['finalscore'] = score.zscorebedroomcnt + score.zscorecalculatedfinishedsquarefeet + score.zscorerankRegion\n",
    "score = score.sort_values(by=['finalscore'], ascending = False)"
   ]
  },
  {
   "cell_type": "code",
   "execution_count": 6,
   "metadata": {
    "scrolled": true
   },
   "outputs": [
    {
     "data": {
      "text/html": [
       "<div>\n",
       "<style>\n",
       "    .dataframe thead tr:only-child th {\n",
       "        text-align: right;\n",
       "    }\n",
       "\n",
       "    .dataframe thead th {\n",
       "        text-align: left;\n",
       "    }\n",
       "\n",
       "    .dataframe tbody tr th {\n",
       "        vertical-align: top;\n",
       "    }\n",
       "</style>\n",
       "<table border=\"1\" class=\"dataframe\">\n",
       "  <thead>\n",
       "    <tr style=\"text-align: right;\">\n",
       "      <th></th>\n",
       "      <th>parcelid</th>\n",
       "      <th>bedroomcnt</th>\n",
       "      <th>calculatedfinishedsquarefeet</th>\n",
       "      <th>regionidcounty</th>\n",
       "      <th>zscorebedroomcnt</th>\n",
       "      <th>zscorecalculatedfinishedsquarefeet</th>\n",
       "      <th>rankRegion</th>\n",
       "      <th>zscorerankRegion</th>\n",
       "      <th>finalscore</th>\n",
       "    </tr>\n",
       "  </thead>\n",
       "  <tbody>\n",
       "    <tr>\n",
       "      <th>735349</th>\n",
       "      <td>11642367</td>\n",
       "      <td>11.0</td>\n",
       "      <td>52503.0</td>\n",
       "      <td>3101.0</td>\n",
       "      <td>8.343401</td>\n",
       "      <td>52.490633</td>\n",
       "      <td>1.0</td>\n",
       "      <td>-0.680719</td>\n",
       "      <td>60.153315</td>\n",
       "    </tr>\n",
       "    <tr>\n",
       "      <th>1150394</th>\n",
       "      <td>10913049</td>\n",
       "      <td>3.0</td>\n",
       "      <td>59220.0</td>\n",
       "      <td>3101.0</td>\n",
       "      <td>-0.333578</td>\n",
       "      <td>59.453208</td>\n",
       "      <td>1.0</td>\n",
       "      <td>-0.680719</td>\n",
       "      <td>58.438912</td>\n",
       "    </tr>\n",
       "    <tr>\n",
       "      <th>1839381</th>\n",
       "      <td>11645264</td>\n",
       "      <td>6.0</td>\n",
       "      <td>45891.0</td>\n",
       "      <td>3101.0</td>\n",
       "      <td>2.920289</td>\n",
       "      <td>45.636897</td>\n",
       "      <td>1.0</td>\n",
       "      <td>-0.680719</td>\n",
       "      <td>47.876467</td>\n",
       "    </tr>\n",
       "    <tr>\n",
       "      <th>2296330</th>\n",
       "      <td>11645396</td>\n",
       "      <td>10.0</td>\n",
       "      <td>39170.0</td>\n",
       "      <td>3101.0</td>\n",
       "      <td>7.258778</td>\n",
       "      <td>38.670176</td>\n",
       "      <td>1.0</td>\n",
       "      <td>-0.680719</td>\n",
       "      <td>45.248235</td>\n",
       "    </tr>\n",
       "    <tr>\n",
       "      <th>1316928</th>\n",
       "      <td>11641900</td>\n",
       "      <td>12.0</td>\n",
       "      <td>35046.0</td>\n",
       "      <td>3101.0</td>\n",
       "      <td>9.428023</td>\n",
       "      <td>34.395401</td>\n",
       "      <td>1.0</td>\n",
       "      <td>-0.680719</td>\n",
       "      <td>43.142705</td>\n",
       "    </tr>\n",
       "    <tr>\n",
       "      <th>2300984</th>\n",
       "      <td>11654951</td>\n",
       "      <td>18.0</td>\n",
       "      <td>26116.0</td>\n",
       "      <td>3101.0</td>\n",
       "      <td>15.935756</td>\n",
       "      <td>25.138918</td>\n",
       "      <td>1.0</td>\n",
       "      <td>-0.680719</td>\n",
       "      <td>40.393956</td>\n",
       "    </tr>\n",
       "    <tr>\n",
       "      <th>2360588</th>\n",
       "      <td>11639520</td>\n",
       "      <td>8.0</td>\n",
       "      <td>35796.0</td>\n",
       "      <td>3101.0</td>\n",
       "      <td>5.089534</td>\n",
       "      <td>35.172821</td>\n",
       "      <td>1.0</td>\n",
       "      <td>-0.680719</td>\n",
       "      <td>39.581636</td>\n",
       "    </tr>\n",
       "    <tr>\n",
       "      <th>2882442</th>\n",
       "      <td>11688909</td>\n",
       "      <td>5.0</td>\n",
       "      <td>37634.0</td>\n",
       "      <td>3101.0</td>\n",
       "      <td>1.835667</td>\n",
       "      <td>37.078019</td>\n",
       "      <td>1.0</td>\n",
       "      <td>-0.680719</td>\n",
       "      <td>38.232967</td>\n",
       "    </tr>\n",
       "    <tr>\n",
       "      <th>819933</th>\n",
       "      <td>11655017</td>\n",
       "      <td>11.0</td>\n",
       "      <td>31335.0</td>\n",
       "      <td>3101.0</td>\n",
       "      <td>8.343401</td>\n",
       "      <td>30.548726</td>\n",
       "      <td>1.0</td>\n",
       "      <td>-0.680719</td>\n",
       "      <td>38.211408</td>\n",
       "    </tr>\n",
       "    <tr>\n",
       "      <th>1341730</th>\n",
       "      <td>11645393</td>\n",
       "      <td>7.0</td>\n",
       "      <td>35378.0</td>\n",
       "      <td>3101.0</td>\n",
       "      <td>4.004911</td>\n",
       "      <td>34.739539</td>\n",
       "      <td>1.0</td>\n",
       "      <td>-0.680719</td>\n",
       "      <td>38.063732</td>\n",
       "    </tr>\n",
       "  </tbody>\n",
       "</table>\n",
       "</div>"
      ],
      "text/plain": [
       "         parcelid  bedroomcnt  calculatedfinishedsquarefeet  regionidcounty  \\\n",
       "735349   11642367        11.0                       52503.0          3101.0   \n",
       "1150394  10913049         3.0                       59220.0          3101.0   \n",
       "1839381  11645264         6.0                       45891.0          3101.0   \n",
       "2296330  11645396        10.0                       39170.0          3101.0   \n",
       "1316928  11641900        12.0                       35046.0          3101.0   \n",
       "2300984  11654951        18.0                       26116.0          3101.0   \n",
       "2360588  11639520         8.0                       35796.0          3101.0   \n",
       "2882442  11688909         5.0                       37634.0          3101.0   \n",
       "819933   11655017        11.0                       31335.0          3101.0   \n",
       "1341730  11645393         7.0                       35378.0          3101.0   \n",
       "\n",
       "         zscorebedroomcnt  zscorecalculatedfinishedsquarefeet  rankRegion  \\\n",
       "735349           8.343401                           52.490633         1.0   \n",
       "1150394         -0.333578                           59.453208         1.0   \n",
       "1839381          2.920289                           45.636897         1.0   \n",
       "2296330          7.258778                           38.670176         1.0   \n",
       "1316928          9.428023                           34.395401         1.0   \n",
       "2300984         15.935756                           25.138918         1.0   \n",
       "2360588          5.089534                           35.172821         1.0   \n",
       "2882442          1.835667                           37.078019         1.0   \n",
       "819933           8.343401                           30.548726         1.0   \n",
       "1341730          4.004911                           34.739539         1.0   \n",
       "\n",
       "         zscorerankRegion  finalscore  \n",
       "735349          -0.680719   60.153315  \n",
       "1150394         -0.680719   58.438912  \n",
       "1839381         -0.680719   47.876467  \n",
       "2296330         -0.680719   45.248235  \n",
       "1316928         -0.680719   43.142705  \n",
       "2300984         -0.680719   40.393956  \n",
       "2360588         -0.680719   39.581636  \n",
       "2882442         -0.680719   38.232967  \n",
       "819933          -0.680719   38.211408  \n",
       "1341730         -0.680719   38.063732  "
      ]
     },
     "execution_count": 6,
     "metadata": {},
     "output_type": "execute_result"
    }
   ],
   "source": [
    "#Top 10 most desirable houses according to our scoring function\n",
    "score.head(10)"
   ]
  },
  {
   "cell_type": "code",
   "execution_count": 7,
   "metadata": {},
   "outputs": [
    {
     "data": {
      "text/html": [
       "<div>\n",
       "<style>\n",
       "    .dataframe thead tr:only-child th {\n",
       "        text-align: right;\n",
       "    }\n",
       "\n",
       "    .dataframe thead th {\n",
       "        text-align: left;\n",
       "    }\n",
       "\n",
       "    .dataframe tbody tr th {\n",
       "        vertical-align: top;\n",
       "    }\n",
       "</style>\n",
       "<table border=\"1\" class=\"dataframe\">\n",
       "  <thead>\n",
       "    <tr style=\"text-align: right;\">\n",
       "      <th></th>\n",
       "      <th>parcelid</th>\n",
       "      <th>bedroomcnt</th>\n",
       "      <th>calculatedfinishedsquarefeet</th>\n",
       "      <th>regionidcounty</th>\n",
       "      <th>zscorebedroomcnt</th>\n",
       "      <th>zscorecalculatedfinishedsquarefeet</th>\n",
       "      <th>rankRegion</th>\n",
       "      <th>zscorerankRegion</th>\n",
       "      <th>finalscore</th>\n",
       "    </tr>\n",
       "  </thead>\n",
       "  <tbody>\n",
       "    <tr>\n",
       "      <th>107816</th>\n",
       "      <td>11329199</td>\n",
       "      <td>1.0</td>\n",
       "      <td>128.0</td>\n",
       "      <td>3101.0</td>\n",
       "      <td>-2.502822</td>\n",
       "      <td>-1.799209</td>\n",
       "      <td>1.0</td>\n",
       "      <td>-0.680719</td>\n",
       "      <td>-4.982750</td>\n",
       "    </tr>\n",
       "    <tr>\n",
       "      <th>1077058</th>\n",
       "      <td>11377029</td>\n",
       "      <td>1.0</td>\n",
       "      <td>120.0</td>\n",
       "      <td>3101.0</td>\n",
       "      <td>-2.502822</td>\n",
       "      <td>-1.807501</td>\n",
       "      <td>1.0</td>\n",
       "      <td>-0.680719</td>\n",
       "      <td>-4.991042</td>\n",
       "    </tr>\n",
       "    <tr>\n",
       "      <th>1733745</th>\n",
       "      <td>11376998</td>\n",
       "      <td>1.0</td>\n",
       "      <td>120.0</td>\n",
       "      <td>3101.0</td>\n",
       "      <td>-2.502822</td>\n",
       "      <td>-1.807501</td>\n",
       "      <td>1.0</td>\n",
       "      <td>-0.680719</td>\n",
       "      <td>-4.991042</td>\n",
       "    </tr>\n",
       "    <tr>\n",
       "      <th>2627828</th>\n",
       "      <td>11376961</td>\n",
       "      <td>1.0</td>\n",
       "      <td>108.0</td>\n",
       "      <td>3101.0</td>\n",
       "      <td>-2.502822</td>\n",
       "      <td>-1.819940</td>\n",
       "      <td>1.0</td>\n",
       "      <td>-0.680719</td>\n",
       "      <td>-5.003481</td>\n",
       "    </tr>\n",
       "    <tr>\n",
       "      <th>2061688</th>\n",
       "      <td>11376960</td>\n",
       "      <td>1.0</td>\n",
       "      <td>108.0</td>\n",
       "      <td>3101.0</td>\n",
       "      <td>-2.502822</td>\n",
       "      <td>-1.819940</td>\n",
       "      <td>1.0</td>\n",
       "      <td>-0.680719</td>\n",
       "      <td>-5.003481</td>\n",
       "    </tr>\n",
       "    <tr>\n",
       "      <th>506194</th>\n",
       "      <td>12017342</td>\n",
       "      <td>1.0</td>\n",
       "      <td>105.0</td>\n",
       "      <td>3101.0</td>\n",
       "      <td>-2.502822</td>\n",
       "      <td>-1.823050</td>\n",
       "      <td>1.0</td>\n",
       "      <td>-0.680719</td>\n",
       "      <td>-5.006591</td>\n",
       "    </tr>\n",
       "    <tr>\n",
       "      <th>1852933</th>\n",
       "      <td>11292857</td>\n",
       "      <td>1.0</td>\n",
       "      <td>96.0</td>\n",
       "      <td>3101.0</td>\n",
       "      <td>-2.502822</td>\n",
       "      <td>-1.832379</td>\n",
       "      <td>1.0</td>\n",
       "      <td>-0.680719</td>\n",
       "      <td>-5.015920</td>\n",
       "    </tr>\n",
       "    <tr>\n",
       "      <th>1137975</th>\n",
       "      <td>11651552</td>\n",
       "      <td>1.0</td>\n",
       "      <td>3.0</td>\n",
       "      <td>3101.0</td>\n",
       "      <td>-2.502822</td>\n",
       "      <td>-1.928779</td>\n",
       "      <td>1.0</td>\n",
       "      <td>-0.680719</td>\n",
       "      <td>-5.112320</td>\n",
       "    </tr>\n",
       "    <tr>\n",
       "      <th>557780</th>\n",
       "      <td>12049240</td>\n",
       "      <td>1.0</td>\n",
       "      <td>3.0</td>\n",
       "      <td>3101.0</td>\n",
       "      <td>-2.502822</td>\n",
       "      <td>-1.928779</td>\n",
       "      <td>1.0</td>\n",
       "      <td>-0.680719</td>\n",
       "      <td>-5.112320</td>\n",
       "    </tr>\n",
       "    <tr>\n",
       "      <th>1768213</th>\n",
       "      <td>12586087</td>\n",
       "      <td>1.0</td>\n",
       "      <td>1.0</td>\n",
       "      <td>3101.0</td>\n",
       "      <td>-2.502822</td>\n",
       "      <td>-1.930852</td>\n",
       "      <td>1.0</td>\n",
       "      <td>-0.680719</td>\n",
       "      <td>-5.114393</td>\n",
       "    </tr>\n",
       "  </tbody>\n",
       "</table>\n",
       "</div>"
      ],
      "text/plain": [
       "         parcelid  bedroomcnt  calculatedfinishedsquarefeet  regionidcounty  \\\n",
       "107816   11329199         1.0                         128.0          3101.0   \n",
       "1077058  11377029         1.0                         120.0          3101.0   \n",
       "1733745  11376998         1.0                         120.0          3101.0   \n",
       "2627828  11376961         1.0                         108.0          3101.0   \n",
       "2061688  11376960         1.0                         108.0          3101.0   \n",
       "506194   12017342         1.0                         105.0          3101.0   \n",
       "1852933  11292857         1.0                          96.0          3101.0   \n",
       "1137975  11651552         1.0                           3.0          3101.0   \n",
       "557780   12049240         1.0                           3.0          3101.0   \n",
       "1768213  12586087         1.0                           1.0          3101.0   \n",
       "\n",
       "         zscorebedroomcnt  zscorecalculatedfinishedsquarefeet  rankRegion  \\\n",
       "107816          -2.502822                           -1.799209         1.0   \n",
       "1077058         -2.502822                           -1.807501         1.0   \n",
       "1733745         -2.502822                           -1.807501         1.0   \n",
       "2627828         -2.502822                           -1.819940         1.0   \n",
       "2061688         -2.502822                           -1.819940         1.0   \n",
       "506194          -2.502822                           -1.823050         1.0   \n",
       "1852933         -2.502822                           -1.832379         1.0   \n",
       "1137975         -2.502822                           -1.928779         1.0   \n",
       "557780          -2.502822                           -1.928779         1.0   \n",
       "1768213         -2.502822                           -1.930852         1.0   \n",
       "\n",
       "         zscorerankRegion  finalscore  \n",
       "107816          -0.680719   -4.982750  \n",
       "1077058         -0.680719   -4.991042  \n",
       "1733745         -0.680719   -4.991042  \n",
       "2627828         -0.680719   -5.003481  \n",
       "2061688         -0.680719   -5.003481  \n",
       "506194          -0.680719   -5.006591  \n",
       "1852933         -0.680719   -5.015920  \n",
       "1137975         -0.680719   -5.112320  \n",
       "557780          -0.680719   -5.112320  \n",
       "1768213         -0.680719   -5.114393  "
      ]
     },
     "execution_count": 7,
     "metadata": {},
     "output_type": "execute_result"
    }
   ],
   "source": [
    "#Top 10 least desirable houses according to our scoring function\n",
    "score.tail(10)"
   ]
  },
  {
   "cell_type": "markdown",
   "metadata": {},
   "source": [
    "# Question 2"
   ]
  },
  {
   "cell_type": "code",
   "execution_count": 8,
   "metadata": {
    "collapsed": true
   },
   "outputs": [],
   "source": [
    "#DistanceMetric function returns the absolute difference between each feature of the house\n",
    "def distanceMetric(house1, house2):\n",
    "    \n",
    "    bedroomDist = abs(house1[0] - house2[0])\n",
    "    \n",
    "    sqftDist = abs(house1[1] - house2[1])\n",
    "    \n",
    "    rankDist = abs(house1[2] - house2[2])\n",
    "    \n",
    "    distance = bedroomDist + sqftDist + rankDist\n",
    "    \n",
    "    if house1[3] != house2[3]:\n",
    "        distance = distance + 1\n",
    "    \n",
    "    return np.abs(distance)"
   ]
  },
  {
   "cell_type": "code",
   "execution_count": 9,
   "metadata": {
    "collapsed": true
   },
   "outputs": [],
   "source": [
    "#Test Call to distance function\n",
    "\n",
    "#Calls the distance function to calculate the distance between the same house\n",
    "for index, row in score.iterrows():\n",
    "    house = row\n",
    "    for index2, row2 in score.iterrows():\n",
    "        house2 = row2\n",
    "        #print(distanceMetric(house, house2))\n",
    "        break\n",
    "    break"
   ]
  },
  {
   "cell_type": "markdown",
   "metadata": {},
   "source": [
    "# Question 3"
   ]
  },
  {
   "cell_type": "code",
   "execution_count": 10,
   "metadata": {
    "collapsed": true
   },
   "outputs": [],
   "source": [
    "#Using the above distance function calculate the score\n",
    "#Includes geographical variables like regionidzip, latitude and longitude\n",
    "\n",
    "score = temp[['parcelid', 'bedroomcnt', 'calculatedfinishedsquarefeet', 'regionidcounty', 'regionidzip', 'latitude', 'longitude']]\n",
    "score = score.dropna(axis=0, how='any')\n",
    "score = score[score.bedroomcnt != 0]\n",
    "\n",
    "score['zscorebedroomcnt'] = stats.zscore(score.bedroomcnt)\n",
    "score['zscorecalculatedfinishedsquarefeet'] = stats.zscore(score.calculatedfinishedsquarefeet)\n",
    "score['rankRegion'] = score.regionidcounty\n",
    "score['rankRegion'].replace(3101.0, 1, inplace=True)\n",
    "score['rankRegion'].replace(2061.0, 2, inplace=True)\n",
    "score['rankRegion'].replace(1286.0, 3, inplace=True)\n",
    "score['zscorerankRegion'] = stats.zscore(score.rankRegion)"
   ]
  },
  {
   "cell_type": "code",
   "execution_count": 11,
   "metadata": {
    "collapsed": true
   },
   "outputs": [],
   "source": [
    "#Includes zscores and geographical variables\n",
    "score2 = score[['zscorebedroomcnt', 'zscorecalculatedfinishedsquarefeet', 'zscorerankRegion', 'regionidzip', 'latitude', 'longitude']]\n",
    "score2 = score2[0:2100000:350]\n",
    "score3 = np.matrix(score2)\n",
    "\n",
    "#Clusters the data into 50 clusters using the distance function\n",
    "clusterModel = fclusterdata(score3, 50, criterion='maxclust', metric=distanceMetric)"
   ]
  },
  {
   "cell_type": "code",
   "execution_count": 12,
   "metadata": {
    "collapsed": true
   },
   "outputs": [],
   "source": [
    "#Stores the cluster variables\n",
    "dataFrame = pd.DataFrame(score3, columns=list('uvwxyz'))\n",
    "dataFrame['clusterValue'] = clusterModel"
   ]
  },
  {
   "cell_type": "code",
   "execution_count": 13,
   "metadata": {
    "collapsed": true
   },
   "outputs": [],
   "source": [
    "#Calculates latitude and longitude values\n",
    "dataFrame['y'] = dataFrame['y'] / 1000000\n",
    "dataFrame['z'] = dataFrame['z'] / 1000000"
   ]
  },
  {
   "cell_type": "code",
   "execution_count": 15,
   "metadata": {},
   "outputs": [
    {
     "data": {
      "image/png": "[encoded data removed]",
      "text/plain": [
       "<matplotlib.figure.Figure at 0x15850df98>"
      ]
     },
     "metadata": {},
     "output_type": "display_data"
    }
   ],
   "source": [
    "#Plots the cluster\n",
    "g = sns.lmplot(x = 'y', y = 'z', data=dataFrame, hue='clusterValue', fit_reg=False, size=10, scatter_kws={\"s\": 7})\n",
    "g = g.set_axis_labels(\"latitude\", \"longitude\")"
   ]
  },
  {
   "cell_type": "markdown",
   "metadata": {},
   "source": [
    "# Question 4"
   ]
  },
  {
   "cell_type": "markdown",
   "metadata": {},
   "source": [
    "This code in the subsequent cells has been executed separately, as it takes a long time to run, and has a limit of 2500 requests per IP address for geocoder."
   ]
  },
  {
   "cell_type": "code",
   "execution_count": null,
   "metadata": {
    "collapsed": true
   },
   "outputs": [],
   "source": [
    "# Get the city corresponding to regionidzip\n",
    "to_drop_duplicates = DataFrame(data=properties[['latitude', 'longitude', 'regionidzip']])\n",
    "to_drop_duplicates = to_drop_duplicates.drop_duplicates(subset='regionidzip')\n",
    "to_drop_duplicates = to_drop_duplicates.dropna()\n",
    "to_drop_duplicates = DataFrame(data=to_drop_duplicates).astype(int)\n",
    "to_drop_duplicates.latitude = to_drop_duplicates.latitude / 1000000\n",
    "to_drop_duplicates.longitude = to_drop_duplicates.longitude / 1000000\n",
    "to_drop_duplicates['zipcode'] = 0\n",
    "to_drop_duplicates['city'] = \"\"\n",
    "to_drop_duplicates['county'] = \"\"\n",
    "\n",
    "for i, rows in to_drop_duplicates.iterrows():\n",
    "    str_lat_lon = str(to_drop_duplicates.latitude[i]) + \", \" + str(to_drop_duplicates.longitude[i])\n",
    "    location = geocoder.google([to_drop_duplicates.latitude[i], to_drop_duplicates.longitude[i]], method = 'reverse')\n",
    "    try:\n",
    "        to_drop_duplicates.zipcode[i] = location.postal\n",
    "        to_drop_duplicates.city[i] = location.city\n",
    "        to_drop_duplicates.county[i] = location.county\n",
    "    except:\n",
    "        print(i)\n",
    "        print(str_lat_lon)\n",
    "        \n",
    "to_drop_duplicates.to_csv('regionidzip_zipcode_from_google.csv')\n",
    "\n"
   ]
  },
  {
   "cell_type": "code",
   "execution_count": 18,
   "metadata": {
    "collapsed": true
   },
   "outputs": [],
   "source": [
    "to_drop_duplicates = pd.read_csv('/Users/charuta/Documents/SBU/Academics/Semester_1/Data_Science/Homework_3/regionidzip_zipcode_from_google.csv')\n",
    "\n",
    "to_drop_duplicates = to_drop_duplicates.dropna()\n",
    "\n",
    "region_city_mapping = dict()\n",
    "for index, row in to_drop_duplicates.iterrows():\n",
    "    if row.regionidzip not in region_city_mapping.keys():\n",
    "        region_city_mapping[row.regionidzip] = row.city\n",
    "\n",
    "zip_region_mapping = dict()\n",
    "for index, row in to_drop_duplicates.iterrows():\n",
    "    if row.regionidzip not in zip_region_mapping.keys():\n",
    "        zip_region_mapping[row.regionidzip] = int(row.zipcode)\n",
    "        "
   ]
  },
  {
   "cell_type": "code",
   "execution_count": null,
   "metadata": {
    "collapsed": true
   },
   "outputs": [],
   "source": [
    "temp = properties[np.isnan(properties.regionidzip)]\n",
    "temp = temp[['latitude', 'longitude', 'regionidzip']]\n",
    "temp = temp.dropna(subset=['longitude'])\n",
    "temp.regionidzip = 0\n",
    "temp = DataFrame(data = temp).astype(int)\n",
    "\n",
    "temp['zipcode'] = 0\n",
    "temp['city'] = \"\"\n",
    "temp['county'] = \"\"\n",
    "\n",
    "count = 0\n",
    "templist = []\n",
    "for index, row in temp.iterrows():\n",
    "    if [temp.latitude[index], temp.longitude[index]] in templist:\n",
    "        continue\n",
    "    count = count + 1\n",
    "    if count > 2500:\n",
    "        break\n",
    "    try:\n",
    "        location = geocoder.google([temp.latitude[index], temp.longitude[index]], method = 'reverse')\n",
    "        templist.append([temp.latitude[index], temp.longitude[index]])\n",
    "        temp.zipcode[index] = location.postal\n",
    "        temp.city[index] = location.city\n",
    "        temp.country[index] = location.county\n",
    "    except:\n",
    "        print(index)\n",
    "        print(temp.latitude[index], \" \", temp.longitude[index])\n"
   ]
  },
  {
   "cell_type": "code",
   "execution_count": 16,
   "metadata": {
    "collapsed": true
   },
   "outputs": [],
   "source": [
    "#External data set consists of crime statistics across California state characterized by cities\n",
    "crime_data = pd.read_csv('/Users/charuta/Documents/SBU/Academics/Semester_1/Data_Science/Homework_3/ca_offenses_by_city.csv')"
   ]
  },
  {
   "cell_type": "code",
   "execution_count": 17,
   "metadata": {},
   "outputs": [
    {
     "name": "stderr",
     "output_type": "stream",
     "text": [
      "/Users/charuta/anaconda/lib/python3.6/site-packages/ipykernel_launcher.py:9: SettingWithCopyWarning: \n",
      "A value is trying to be set on a copy of a slice from a DataFrame\n",
      "\n",
      "See the caveats in the documentation: http://pandas.pydata.org/pandas-docs/stable/indexing.html#indexing-view-versus-copy\n",
      "  if __name__ == '__main__':\n"
     ]
    }
   ],
   "source": [
    "#Maps crime rates and city's population to the each city in our data\n",
    "\n",
    "#Code for city to crime and city to population mapping\n",
    "city_crime_count = dict()\n",
    "city_population = dict()\n",
    "\n",
    "crime_data['total_crimes'] = 0\n",
    "for index, row in crime_data.iterrows():\n",
    "    crime_data.total_crimes[index] = crime_data['Violent crime'][index] + crime_data['Murder and nonnegligent manslaughter'][index] + crime_data['Rape (revised definition)'][index] + crime_data['Rape (legacy definition)'][index] + crime_data['Robbery'][index] + crime_data['Aggravated assault'][index] + crime_data['Property crime'][index] + crime_data['Burglary'][index] + crime_data['Larceny-theft'][index] + crime_data['Motor vehicle theft'][index]\n",
    "    city_crime_count[row.City.lower()] = row['Violent crime'] + row['Murder and nonnegligent manslaughter'] + row['Rape (revised definition)'] + row['Rape (legacy definition)'] + row['Robbery'] + row['Aggravated assault'] + row['Property crime'] + row['Burglary'] + row['Larceny-theft'] + row['Motor vehicle theft']\n",
    "    city_population[row.City.lower()] = row.Population"
   ]
  },
  {
   "cell_type": "code",
   "execution_count": 19,
   "metadata": {
    "collapsed": true
   },
   "outputs": [],
   "source": [
    "properties_temp = properties\n",
    "\n",
    "#Merge properties and region_city_mapping on regionidzip\n",
    "r2 = pd.DataFrame(list(region_city_mapping.items()), columns=['regionidzip', 'city']) #Converts dictionary to dataframe\n",
    "\n",
    "properties_temp = properties_temp.merge(r2, on='regionidzip', how='left')"
   ]
  },
  {
   "cell_type": "code",
   "execution_count": 20,
   "metadata": {
    "collapsed": true
   },
   "outputs": [],
   "source": [
    "#For data that doesnt have regionidzip, use latitude longitude to get city from geocoder\n",
    "to_use_final = pd.read_csv('/Users/charuta/Documents/SBU/Academics/Semester_1/Data_Science/Homework_3/to_use_final.csv')"
   ]
  },
  {
   "cell_type": "code",
   "execution_count": 21,
   "metadata": {
    "collapsed": true
   },
   "outputs": [],
   "source": [
    "#Merges city with properties data based on latitude longitude\n",
    "r3 = pd.DataFrame(data = to_use_final, columns=['latitude', 'longitude', 'city']) #Converts dictionary to dataframe\n",
    "properties_temp = properties_temp.merge(r3, on=['latitude', 'longitude'], how='left')"
   ]
  },
  {
   "cell_type": "code",
   "execution_count": 22,
   "metadata": {
    "collapsed": true
   },
   "outputs": [],
   "source": [
    "#Drops data that doesn't have latitude longitude\n",
    "prop2 = properties_temp.dropna(subset = ['latitude'])\n",
    "\n",
    "#Renames city column\n",
    "prop2 = prop2.drop('city_y', 1)\n",
    "prop2 = prop2.rename(columns={'city_x': 'city'})"
   ]
  },
  {
   "cell_type": "code",
   "execution_count": 23,
   "metadata": {
    "collapsed": true
   },
   "outputs": [],
   "source": [
    "#Merges crime count with properties dataset\n",
    "r4 = pd.DataFrame(list(city_crime_count.items()), columns=['city', 'crime_count'])\n",
    "prop3 = prop2.merge(r4, on='city', how='left')"
   ]
  },
  {
   "cell_type": "code",
   "execution_count": 24,
   "metadata": {
    "collapsed": true
   },
   "outputs": [],
   "source": [
    "#Merges population data with properties dataset\n",
    "r5 = pd.DataFrame(list(city_population.items()), columns=['city', 'population'])\n",
    "prop4 = prop3.merge(r5, on='city', how='left')"
   ]
  },
  {
   "cell_type": "code",
   "execution_count": 25,
   "metadata": {
    "collapsed": true
   },
   "outputs": [],
   "source": [
    "#Properties dataset with external crime and population data\n",
    "prop4.to_csv('properties_2016_city_crime_population.csv')"
   ]
  },
  {
   "cell_type": "markdown",
   "metadata": {},
   "source": [
    "# Question 5"
   ]
  },
  {
   "cell_type": "code",
   "execution_count": 39,
   "metadata": {
    "collapsed": true
   },
   "outputs": [],
   "source": [
    "#Reads the merged dataset from Question4\n",
    "properties = pd.read_csv('./properties_2016_city_crime_population.csv')"
   ]
  },
  {
   "cell_type": "code",
   "execution_count": 40,
   "metadata": {
    "collapsed": true
   },
   "outputs": [],
   "source": [
    "#Training dataframe\n",
    "train_df = pd.read_csv('/Users/charuta/Documents/SBU/Academics/Semester_1/Data_Science/Homework_3/train_2016_v2.csv')\n",
    "train_df = pd.merge(train_df, properties, on='parcelid', how='left')"
   ]
  },
  {
   "cell_type": "code",
   "execution_count": 41,
   "metadata": {
    "collapsed": true
   },
   "outputs": [],
   "source": [
    "#Testing dataframe\n",
    "test_df = pd.read_csv('/Users/charuta/Documents/SBU/Academics/Semester_1/Data_Science/Homework_3/sample_submission.csv') \n",
    "test_df = test_df.rename(columns={'ParcelId': 'parcelid'})\n",
    "test_df = test_df.merge(properties, how='left', on='parcelid')"
   ]
  },
  {
   "cell_type": "code",
   "execution_count": 42,
   "metadata": {
    "collapsed": true
   },
   "outputs": [],
   "source": [
    "#Testing features\n",
    "test_attributes = test_df[['calculatedfinishedsquarefeet', 'bedroomcnt', 'crime_count']]"
   ]
  },
  {
   "cell_type": "code",
   "execution_count": 43,
   "metadata": {},
   "outputs": [
    {
     "name": "stderr",
     "output_type": "stream",
     "text": [
      "/Users/charuta/anaconda/lib/python3.6/site-packages/pandas/core/generic.py:3549: SettingWithCopyWarning: \n",
      "A value is trying to be set on a copy of a slice from a DataFrame\n",
      "\n",
      "See the caveats in the documentation: http://pandas.pydata.org/pandas-docs/stable/indexing.html#indexing-view-versus-copy\n",
      "  self._update_inplace(new_data)\n"
     ]
    }
   ],
   "source": [
    "#Preprocessing on testing features\n",
    "test_attributes['bedroomcnt'].fillna(0, inplace=True)\n",
    "test_attributes['calculatedfinishedsquarefeet'].fillna((test_attributes['calculatedfinishedsquarefeet'].mean()), inplace=True)\n",
    "test_attributes['crime_count'].fillna((test_attributes['crime_count'].median()), inplace=True)"
   ]
  },
  {
   "cell_type": "code",
   "execution_count": 44,
   "metadata": {},
   "outputs": [
    {
     "name": "stderr",
     "output_type": "stream",
     "text": [
      "/Users/charuta/anaconda/lib/python3.6/site-packages/ipykernel_launcher.py:9: DeprecationWarning: \n",
      ".ix is deprecated. Please use\n",
      ".loc for label based indexing or\n",
      ".iloc for positional indexing\n",
      "\n",
      "See the documentation here:\n",
      "http://pandas.pydata.org/pandas-docs/stable/indexing.html#deprecate_ix\n",
      "  if __name__ == '__main__':\n"
     ]
    }
   ],
   "source": [
    "# Training\n",
    "\n",
    "train_df['bedroomcnt'].fillna(0, inplace=True)\n",
    "train_df['calculatedfinishedsquarefeet'].fillna((train_df['calculatedfinishedsquarefeet'].mean()), inplace=True)\n",
    "train_df['crime_count'].fillna((train_df['crime_count'].median()), inplace=True)\n",
    "\n",
    "train_use = train_df[['calculatedfinishedsquarefeet', 'bedroomcnt', 'crime_count', 'logerror']]\n",
    "\n",
    "X = train_use.ix[:, train_use.columns != 'logerror']\n",
    "y = train_use.ix[:, train_use.columns == 'logerror']\n",
    "\n",
    "X_use = np.matrix(X)\n",
    "y_use = np.matrix(y)\n",
    "\n",
    "X_train = X_use\n",
    "y_train = y_use\n",
    "\n",
    "#Linear Regression\n",
    "regressor = LinearRegression()\n",
    "regressor.fit(X_train, y_train)\n",
    "\n",
    "\n",
    "#Prediction (Testing)\n",
    "\n",
    "X_test = np.matrix(test_attributes)\n",
    "y_pred = regressor.predict(X_test)"
   ]
  },
  {
   "cell_type": "code",
   "execution_count": 45,
   "metadata": {
    "collapsed": true
   },
   "outputs": [],
   "source": [
    "sample_file = pd.read_csv('/Users/charuta/Documents/SBU/Academics/Semester_1/Data_Science/Homework_3/sample_submission.csv')"
   ]
  },
  {
   "cell_type": "code",
   "execution_count": 46,
   "metadata": {},
   "outputs": [
    {
     "name": "stdout",
     "output_type": "stream",
     "text": [
      "Preparing the csv file ...\n",
      "Finished writing the file\n"
     ]
    }
   ],
   "source": [
    "#Creates the final submission file\n",
    "sample_file['201610'] = y_pred\n",
    "sample_file['201710'] = y_pred\n",
    "\n",
    "sample_file['201611'] = y_pred\n",
    "sample_file['201711'] = y_pred\n",
    "\n",
    "sample_file['201612'] = y_pred\n",
    "sample_file['201712'] = y_pred\n",
    "\n",
    "print('Preparing the csv file ...')\n",
    "sample_file.to_csv('predicted_results_CND_2016_2.csv', index=False)\n",
    "print(\"Finished writing the file\")"
   ]
  },
  {
   "cell_type": "markdown",
   "metadata": {},
   "source": [
    "# Question 6"
   ]
  },
  {
   "cell_type": "code",
   "execution_count": 57,
   "metadata": {
    "collapsed": true
   },
   "outputs": [],
   "source": [
    "#Training dataframe\n",
    "train_df = pd.read_csv('/Users/charuta/Documents/SBU/Academics/Semester_1/Data_Science/Homework_3/train_2017.csv')\n",
    "train_df = pd.merge(train_df, properties, on='parcelid', how='left')"
   ]
  },
  {
   "cell_type": "code",
   "execution_count": 58,
   "metadata": {
    "collapsed": true
   },
   "outputs": [],
   "source": [
    "#Feature selection\n",
    "train_df2 = train_df.dropna(subset = ['calculatedfinishedsquarefeet', 'bedroomcnt', 'crime_count'])\n",
    "train_use = train_df2[['calculatedfinishedsquarefeet', 'bedroomcnt', 'crime_count', 'logerror']]"
   ]
  },
  {
   "cell_type": "code",
   "execution_count": 59,
   "metadata": {},
   "outputs": [
    {
     "name": "stdout",
     "output_type": "stream",
     "text": [
      "Mean Squared Error =  0.0338089150366\n",
      "          R2 score =  0.00107681417878\n"
     ]
    },
    {
     "name": "stderr",
     "output_type": "stream",
     "text": [
      "/Users/charuta/anaconda/lib/python3.6/site-packages/ipykernel_launcher.py:2: DeprecationWarning: \n",
      ".ix is deprecated. Please use\n",
      ".loc for label based indexing or\n",
      ".iloc for positional indexing\n",
      "\n",
      "See the documentation here:\n",
      "http://pandas.pydata.org/pandas-docs/stable/indexing.html#deprecate_ix\n",
      "  \n"
     ]
    }
   ],
   "source": [
    "#Training\n",
    "X = train_use.ix[:, train_use.columns != 'logerror']\n",
    "y = train_use.ix[:, train_use.columns == 'logerror']\n",
    "\n",
    "X_use = np.matrix(X)\n",
    "y_use = np.matrix(y)\n",
    "\n",
    "#Splits train and test dataframe\n",
    "X_train, X_test, y_train, y_test = train_test_split(X_use, y_use, test_size = 0.05, random_state = 0)\n",
    "\n",
    "#Linear Regression\n",
    "regressor = LinearRegression()\n",
    "regressor.fit(X_train, y_train)\n",
    "\n",
    "y_pred = regressor.predict(X_test)\n",
    "\n",
    "#Stores the baseError prediction for future comparisons\n",
    "baseError = sklearn.metrics.mean_squared_error(y_test, y_pred)\n",
    "\n",
    "print(\"Mean Squared Error = \", sklearn.metrics.mean_squared_error(y_test, y_pred))\n",
    "print(\"          R2 score = \", sklearn.metrics.r2_score(y_test, y_pred))"
   ]
  },
  {
   "cell_type": "code",
   "execution_count": 66,
   "metadata": {},
   "outputs": [
    {
     "name": "stdout",
     "output_type": "stream",
     "text": [
      "0.006\n"
     ]
    }
   ],
   "source": [
    "#Calculates p-value for 500 permutations\n",
    "count_bad = 0.0\n",
    "count_good = 0.0\n",
    "for i in range(0, 500):\n",
    "    np.random.shuffle(y_test)\n",
    "    if baseError < sklearn.metrics.mean_squared_error(y_test, y_pred):\n",
    "        count_bad += 1\n",
    "    else:\n",
    "        count_good += 1\n",
    "        \n",
    "#Percentage score of p-value test\n",
    "print(count_good / (count_good + count_bad))"
   ]
  },
  {
   "cell_type": "code",
   "execution_count": 67,
   "metadata": {},
   "outputs": [
    {
     "name": "stdout",
     "output_type": "stream",
     "text": [
      "0.009\n"
     ]
    }
   ],
   "source": [
    "#Calculates p-value for 500 permutations\n",
    "count_bad = 0.0\n",
    "count_good = 0.0\n",
    "for i in range(0, 1000):\n",
    "    np.random.shuffle(y_test)\n",
    "    if baseError < sklearn.metrics.mean_squared_error(y_test, y_pred):\n",
    "        count_bad += 1\n",
    "    else:\n",
    "        count_good += 1\n",
    "        \n",
    "#Percentage score of p-value test\n",
    "print(count_good / (count_good + count_bad))"
   ]
  },
  {
   "cell_type": "code",
   "execution_count": 68,
   "metadata": {},
   "outputs": [
    {
     "name": "stdout",
     "output_type": "stream",
     "text": [
      "0.0\n"
     ]
    }
   ],
   "source": [
    "#Calculates p-value for 500 permutations\n",
    "count_bad = 0.0\n",
    "count_good = 0.0\n",
    "for i in range(0, 100):\n",
    "    np.random.shuffle(y_test)\n",
    "    if baseError < sklearn.metrics.mean_squared_error(y_test, y_pred):\n",
    "        count_bad += 1\n",
    "    else:\n",
    "        count_good += 1\n",
    "        \n",
    "#Percentage score of p-value test\n",
    "print(count_good / (count_good + count_bad))"
   ]
  }
 ],
 "metadata": {
  "kernelspec": {
   "display_name": "Python 3",
   "language": "python",
   "name": "python3"
  },
  "language_info": {
   "codemirror_mode": {
    "name": "ipython",
    "version": 3
   },
   "file_extension": ".py",
   "mimetype": "text/x-python",
   "name": "python",
   "nbconvert_exporter": "python",
   "pygments_lexer": "ipython3",
   "version": "3.6.1"
  }
 },
 "nbformat": 4,
 "nbformat_minor": 2
}
